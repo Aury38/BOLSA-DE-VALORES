{
  "nbformat": 4,
  "nbformat_minor": 0,
  "metadata": {
    "colab": {
      "provenance": [],
      "authorship_tag": "ABX9TyPIk9SH+KQ7BfbEJzYAXT0B",
      "include_colab_link": true
    },
    "kernelspec": {
      "name": "python3",
      "display_name": "Python 3"
    },
    "language_info": {
      "name": "python"
    }
  },
  "cells": [
    {
      "cell_type": "markdown",
      "metadata": {
        "id": "view-in-github",
        "colab_type": "text"
      },
      "source": [
        "<a href=\"https://colab.research.google.com/github/Aury38/BOLSA-DE-VALORES/blob/main/ACTION_NEWS.ipynb\" target=\"_parent\"><img src=\"https://colab.research.google.com/assets/colab-badge.svg\" alt=\"Open In Colab\"/></a>"
      ]
    },
    {
      "cell_type": "markdown",
      "source": [
        "# IMPORT BIBLIOTECAS\n"
      ],
      "metadata": {
        "id": "Jg5YxFUy1LbF"
      }
    },
    {
      "cell_type": "code",
      "source": [
        "!pip install GoogleNews"
      ],
      "metadata": {
        "colab": {
          "base_uri": "https://localhost:8080/"
        },
        "id": "E_fx6bi81V9t",
        "outputId": "c81ba61e-a833-46f1-c86d-5309d3fbb69a"
      },
      "execution_count": 1,
      "outputs": [
        {
          "output_type": "stream",
          "name": "stdout",
          "text": [
            "Collecting GoogleNews\n",
            "  Downloading GoogleNews-1.6.12-py3-none-any.whl (8.2 kB)\n",
            "Requirement already satisfied: beautifulsoup4 in /usr/local/lib/python3.10/dist-packages (from GoogleNews) (4.11.2)\n",
            "Collecting dateparser (from GoogleNews)\n",
            "  Downloading dateparser-1.2.0-py2.py3-none-any.whl (294 kB)\n",
            "\u001b[2K     \u001b[90m━━━━━━━━━━━━━━━━━━━━━━━━━━━━━━━━━━━━━━━━\u001b[0m \u001b[32m295.0/295.0 kB\u001b[0m \u001b[31m4.5 MB/s\u001b[0m eta \u001b[36m0:00:00\u001b[0m\n",
            "\u001b[?25hRequirement already satisfied: python-dateutil in /usr/local/lib/python3.10/dist-packages (from GoogleNews) (2.8.2)\n",
            "Requirement already satisfied: soupsieve>1.2 in /usr/local/lib/python3.10/dist-packages (from beautifulsoup4->GoogleNews) (2.5)\n",
            "Requirement already satisfied: pytz in /usr/local/lib/python3.10/dist-packages (from dateparser->GoogleNews) (2023.3.post1)\n",
            "Requirement already satisfied: regex!=2019.02.19,!=2021.8.27 in /usr/local/lib/python3.10/dist-packages (from dateparser->GoogleNews) (2023.6.3)\n",
            "Requirement already satisfied: tzlocal in /usr/local/lib/python3.10/dist-packages (from dateparser->GoogleNews) (5.2)\n",
            "Requirement already satisfied: six>=1.5 in /usr/local/lib/python3.10/dist-packages (from python-dateutil->GoogleNews) (1.16.0)\n",
            "Installing collected packages: dateparser, GoogleNews\n",
            "Successfully installed GoogleNews-1.6.12 dateparser-1.2.0\n"
          ]
        }
      ]
    },
    {
      "cell_type": "markdown",
      "source": [
        "CÓDIGO"
      ],
      "metadata": {
        "id": "5ffTmKKe1lv1"
      }
    },
    {
      "cell_type": "code",
      "source": [
        "from GoogleNews import GoogleNews\n",
        "pesquisa = input ( \" Digite a pesquisa\")\n",
        "\n",
        "googlenews = GoogleNews(lang='pt-BR')\n",
        "googlenews.search(pesquisa)\n",
        "\n",
        "for i in range(2):\n",
        "  print(googlenews.results()[i]['title'])\n",
        "  print(googlenews.results()[i]['link'])\n",
        "  print(googlenews.results()[i]['desc'])\n",
        "  print(googlenews.results()[i]['date'])"
      ],
      "metadata": {
        "colab": {
          "base_uri": "https://localhost:8080/"
        },
        "id": "iEaBmb3G1oUt",
        "outputId": "e3fc7627-9c78-4565-b3b8-b16b4601cddb"
      },
      "execution_count": 10,
      "outputs": [
        {
          "output_type": "stream",
          "name": "stdout",
          "text": [
            " Digite a pesquisafacebook\n",
            "WhatsApp will soon allow users to cross-post their status updates to Instagram and Facebook\n",
            "https://technave.com/gadget/WhatsApp-will-soon-allow-users-to-cross-post-their-status-updates-to-Instagram-and-Facebook-36961.html&ved=2ahUKEwjosrTftZuDAxUYNuwKHemDCvEQxfQBegQIAhAC&usg=AOvVaw0KsmhnzFwBw8t-4ODOg0HK\n",
            "\n",
            "8 min atrás\n",
            "Rising Facebook hacking incidents prompt concerns: How to avoid getting hacked?\n",
            "https://www.fingerlakes1.com/2023/12/19/rising-facebook-hacking-incidents-prompt-concerns-how-to-avoid-getting-hacked/&ved=2ahUKEwjosrTftZuDAxUYNuwKHemDCvEQxfQBegQICRAC&usg=AOvVaw16CH6sPQbF47tFH2uWjXkU\n",
            "\n",
            "1 min atrás\n"
          ]
        }
      ]
    }
  ]
}